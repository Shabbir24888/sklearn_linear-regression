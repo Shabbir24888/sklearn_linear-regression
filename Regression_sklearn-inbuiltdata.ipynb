{
 "cells": [
  {
   "cell_type": "markdown",
   "id": "9ed1fe49",
   "metadata": {},
   "source": [
    "# Use inbuilt datasets from sklearn library\n",
    "### - Perform linear regression\n",
    "### - apply test dataset and check mean square error"
   ]
  },
  {
   "cell_type": "code",
   "execution_count": 9,
   "id": "af4d7295",
   "metadata": {},
   "outputs": [
    {
     "name": "stdout",
     "output_type": "stream",
     "text": [
      "THIS PROGRAM IS FOR PROCESSING EXISTING DATASETS FROM SKLEARN MODULE\n",
      "dict_keys(['data', 'target', 'frame', 'DESCR', 'feature_names', 'data_filename', 'target_filename', 'data_module'])\n",
      ".. _diabetes_dataset:\n",
      "\n",
      "Diabetes dataset\n",
      "----------------\n",
      "\n",
      "Ten baseline variables, age, sex, body mass index, average blood\n",
      "pressure, and six blood serum measurements were obtained for each of n =\n",
      "442 diabetes patients, as well as the response of interest, a\n",
      "quantitative measure of disease progression one year after baseline.\n",
      "\n",
      "**Data Set Characteristics:**\n",
      "\n",
      "  :Number of Instances: 442\n",
      "\n",
      "  :Number of Attributes: First 10 columns are numeric predictive values\n",
      "\n",
      "  :Target: Column 11 is a quantitative measure of disease progression one year after baseline\n",
      "\n",
      "  :Attribute Information:\n",
      "      - age     age in years\n",
      "      - sex\n",
      "      - bmi     body mass index\n",
      "      - bp      average blood pressure\n",
      "      - s1      tc, total serum cholesterol\n",
      "      - s2      ldl, low-density lipoproteins\n",
      "      - s3      hdl, high-density lipoproteins\n",
      "      - s4      tch, total cholesterol / HDL\n",
      "      - s5      ltg, possibly log of serum triglycerides level\n",
      "      - s6      glu, blood sugar level\n",
      "\n",
      "Note: Each of these 10 feature variables have been mean centered and scaled by the standard deviation times `n_samples` (i.e. the sum of squares of each column totals 1).\n",
      "\n",
      "Source URL:\n",
      "https://www4.stat.ncsu.edu/~boos/var.select/diabetes.html\n",
      "\n",
      "For more information see:\n",
      "Bradley Efron, Trevor Hastie, Iain Johnstone and Robert Tibshirani (2004) \"Least Angle Regression,\" Annals of Statistics (with discussion), 407-499.\n",
      "(https://web.stanford.edu/~hastie/Papers/LARS/LeastAngle_2002.pdf)\n"
     ]
    }
   ],
   "source": [
    "# Importing required packages\n",
    "\n",
    "print(\"THIS PROGRAM IS FOR PROCESSING EXISTING DATASETS FROM SKLEARN MODULE\")\n",
    "import matplotlib.pyplot as plt\n",
    "import pandas as pd\n",
    "import numpy as np\n",
    "from sklearn import datasets, linear_model\n",
    "from sklearn.metrics import  mean_squared_error\n",
    "\n",
    "\n",
    "diabetes = datasets.load_diabetes()\n",
    "print(diabetes.keys())   # This will print type of data sets present\n",
    "#(['data', 'target', 'frame', 'DESCR', 'feature_names', 'data_filename', 'target_filename', 'data_module'])\n",
    "#We can print each type of data mentioned in above.\n",
    "print(diabetes.DESCR)"
   ]
  },
  {
   "cell_type": "code",
   "execution_count": 6,
   "id": "2c19a278",
   "metadata": {},
   "outputs": [
    {
     "name": "stdout",
     "output_type": "stream",
     "text": [
      "(3, 1)\n",
      "(3,)\n",
      "(3, 1)\n",
      "(3,)\n",
      "[[1]\n",
      " [2]\n",
      " [3]]\n"
     ]
    }
   ],
   "source": [
    "# Check the shape of the data\n",
    "print(diabetes_X_train.shape)\n",
    "print(diabetes_y_train.shape)\n",
    "print(diabetes_X_test.shape)\n",
    "print(diabetes_y_test.shape)\n",
    "print(diabetes_X)"
   ]
  },
  {
   "cell_type": "code",
   "execution_count": 7,
   "id": "3a7646de",
   "metadata": {},
   "outputs": [
    {
     "name": "stdout",
     "output_type": "stream",
     "text": [
      "Mean squared error is:  3563.5259785449803\n",
      "Weight:  [458.15762507]\n",
      "Intercept:  144.70176785409583\n"
     ]
    },
    {
     "data": {
      "image/png": "[encoded data removed]",
      "text/plain": [
       "<Figure size 640x480 with 1 Axes>"
      ]
     },
     "metadata": {},
     "output_type": "display_data"
    }
   ],
   "source": [
    "# Linear Regression using scikit learn library\n",
    "\n",
    "diabetes = datasets.load_diabetes()\n",
    "\n",
    "diabetes_X = diabetes.data[:, np.newaxis,2]\n",
    "\n",
    "diabetes_X_train = diabetes_X[:30]\n",
    "diabetes_X_test = diabetes_X[-30:]\n",
    "\n",
    "diabetes_y_train = diabetes.target[:30]\n",
    "diabetes_y_test = diabetes.target[-30:]\n",
    "\n",
    "model = linear_model.LinearRegression()\n",
    "\n",
    "model.fit(diabetes_X_train, diabetes_y_train)\n",
    "\n",
    "diabetes_y_predicted = model.predict(diabetes_X_test)\n",
    "\n",
    "print(\"Mean squared error is: \", mean_squared_error(diabetes_y_test, diabetes_y_predicted))\n",
    "\n",
    "print(\"Weight: \" ,model.coef_)\n",
    "print(\"Intercept: \" ,model.intercept_)\n",
    "\n",
    "\n",
    "plt.scatter(diabetes_X_test, diabetes_y_test)\n",
    "plt.plot(diabetes_X_test, diabetes_y_predicted)\n",
    "plt.show()\n",
    "\n"
   ]
  },
  {
   "cell_type": "code",
   "execution_count": null,
   "id": "be7afdca",
   "metadata": {},
   "outputs": [],
   "source": []
  }
 ],
 "metadata": {
  "kernelspec": {
   "display_name": "Python 3 (ipykernel)",
   "language": "python",
   "name": "python3"
  },
  "language_info": {
   "codemirror_mode": {
    "name": "ipython",
    "version": 3
   },
   "file_extension": ".py",
   "mimetype": "text/x-python",
   "name": "python",
   "nbconvert_exporter": "python",
   "pygments_lexer": "ipython3",
   "version": "3.9.13"
  }
 },
 "nbformat": 4,
 "nbformat_minor": 5
}
